{
 "cells": [
  {
   "cell_type": "markdown",
   "metadata": {},
   "source": [
    "# Free Response Emotion Labels: Analysis Notebook"
   ]
  },
  {
   "cell_type": "markdown",
   "metadata": {},
   "source": [
    "## Combination KH&EW code"
   ]
  },
  {
   "cell_type": "markdown",
   "metadata": {},
   "source": [
    "_________________"
   ]
  },
  {
   "cell_type": "markdown",
   "metadata": {},
   "source": [
    "### Housekeeping"
   ]
  },
  {
   "cell_type": "code",
   "execution_count": 2,
   "metadata": {},
   "outputs": [],
   "source": [
    "import numpy as np\n",
    "from scipy import stats as ssp\n",
    "import scipy as sp\n",
    "import pandas as pd\n",
    "pd.set_option('display.max_columns',100)\n",
    "pd.set_option('display.max_rows', 100)\n",
    "%config InlineBackend.figure_format = 'retina' "
   ]
  },
  {
   "cell_type": "code",
   "execution_count": 5,
   "metadata": {},
   "outputs": [
    {
     "name": "stdout",
     "output_type": "stream",
     "text": [
      "1.24.4\n",
      "2.0.3\n"
     ]
    }
   ],
   "source": [
    "print(np.__version__) #1.24.4\n",
    "print(pd.__version__) #2.0.3"
   ]
  },
  {
   "cell_type": "code",
   "execution_count": 3,
   "metadata": {},
   "outputs": [],
   "source": [
    "from collections import Counter"
   ]
  },
  {
   "cell_type": "code",
   "execution_count": 4,
   "metadata": {},
   "outputs": [],
   "source": [
    "#loading Roberta Vectors\n",
    "from sentence_transformers import SentenceTransformer\n",
    "model = SentenceTransformer('multi-qa-mpnet-base-dot-v1')"
   ]
  },
  {
   "cell_type": "code",
   "execution_count": 7,
   "metadata": {},
   "outputs": [
    {
     "data": {
      "text/plain": [
       "SentenceTransformer(\n",
       "  (0): Transformer({'max_seq_length': 512, 'do_lower_case': False}) with Transformer model: MPNetModel \n",
       "  (1): Pooling({'word_embedding_dimension': 768, 'pooling_mode_cls_token': True, 'pooling_mode_mean_tokens': False, 'pooling_mode_max_tokens': False, 'pooling_mode_mean_sqrt_len_tokens': False})\n",
       ")"
      ]
     },
     "execution_count": 7,
     "metadata": {},
     "output_type": "execute_result"
    }
   ],
   "source": [
    "model"
   ]
  },
  {
   "cell_type": "markdown",
   "metadata": {},
   "source": [
    "## Getting the Data"
   ]
  },
  {
   "cell_type": "code",
   "execution_count": 5,
   "metadata": {},
   "outputs": [],
   "source": [
    "df1 = pd.read_csv(\"../Input/Study1_PromptData_Cleaned.csv\")"
   ]
  },
  {
   "cell_type": "code",
   "execution_count": 6,
   "metadata": {},
   "outputs": [
    {
     "data": {
      "text/html": [
       "<div>\n",
       "<style scoped>\n",
       "    .dataframe tbody tr th:only-of-type {\n",
       "        vertical-align: middle;\n",
       "    }\n",
       "\n",
       "    .dataframe tbody tr th {\n",
       "        vertical-align: top;\n",
       "    }\n",
       "\n",
       "    .dataframe thead th {\n",
       "        text-align: right;\n",
       "    }\n",
       "</style>\n",
       "<table border=\"1\" class=\"dataframe\">\n",
       "  <thead>\n",
       "    <tr style=\"text-align: right;\">\n",
       "      <th></th>\n",
       "      <th>PPID</th>\n",
       "      <th>Final50</th>\n",
       "      <th>Day</th>\n",
       "      <th>Time</th>\n",
       "      <th>Valence</th>\n",
       "      <th>Arousal</th>\n",
       "      <th>Word1</th>\n",
       "      <th>Intensity1</th>\n",
       "      <th>Word2</th>\n",
       "      <th>Intensity2</th>\n",
       "      <th>Word3</th>\n",
       "      <th>Intensity3</th>\n",
       "      <th>Word4</th>\n",
       "      <th>Intensity4</th>\n",
       "      <th>Phrase</th>\n",
       "    </tr>\n",
       "  </thead>\n",
       "  <tbody>\n",
       "    <tr>\n",
       "      <th>0</th>\n",
       "      <td>2</td>\n",
       "      <td>1</td>\n",
       "      <td>1</td>\n",
       "      <td>10:09</td>\n",
       "      <td>20</td>\n",
       "      <td>2</td>\n",
       "      <td>excited</td>\n",
       "      <td>2.0</td>\n",
       "      <td>NaN</td>\n",
       "      <td>NaN</td>\n",
       "      <td>NaN</td>\n",
       "      <td>NaN</td>\n",
       "      <td>NaN</td>\n",
       "      <td>NaN</td>\n",
       "      <td>excited</td>\n",
       "    </tr>\n",
       "    <tr>\n",
       "      <th>1</th>\n",
       "      <td>2</td>\n",
       "      <td>1</td>\n",
       "      <td>1</td>\n",
       "      <td>10:33</td>\n",
       "      <td>32</td>\n",
       "      <td>4</td>\n",
       "      <td>busy</td>\n",
       "      <td>3.0</td>\n",
       "      <td>NaN</td>\n",
       "      <td>NaN</td>\n",
       "      <td>NaN</td>\n",
       "      <td>NaN</td>\n",
       "      <td>NaN</td>\n",
       "      <td>NaN</td>\n",
       "      <td>busy</td>\n",
       "    </tr>\n",
       "    <tr>\n",
       "      <th>2</th>\n",
       "      <td>2</td>\n",
       "      <td>1</td>\n",
       "      <td>1</td>\n",
       "      <td>11:24</td>\n",
       "      <td>35</td>\n",
       "      <td>28</td>\n",
       "      <td>happy</td>\n",
       "      <td>3.0</td>\n",
       "      <td>NaN</td>\n",
       "      <td>NaN</td>\n",
       "      <td>NaN</td>\n",
       "      <td>NaN</td>\n",
       "      <td>NaN</td>\n",
       "      <td>NaN</td>\n",
       "      <td>happy</td>\n",
       "    </tr>\n",
       "    <tr>\n",
       "      <th>3</th>\n",
       "      <td>2</td>\n",
       "      <td>1</td>\n",
       "      <td>1</td>\n",
       "      <td>11:39</td>\n",
       "      <td>44</td>\n",
       "      <td>47</td>\n",
       "      <td>excited</td>\n",
       "      <td>4.0</td>\n",
       "      <td>anxious</td>\n",
       "      <td>4.0</td>\n",
       "      <td>NaN</td>\n",
       "      <td>NaN</td>\n",
       "      <td>NaN</td>\n",
       "      <td>NaN</td>\n",
       "      <td>excited anxious</td>\n",
       "    </tr>\n",
       "    <tr>\n",
       "      <th>4</th>\n",
       "      <td>2</td>\n",
       "      <td>1</td>\n",
       "      <td>1</td>\n",
       "      <td>11:49</td>\n",
       "      <td>-27</td>\n",
       "      <td>38</td>\n",
       "      <td>frustrated</td>\n",
       "      <td>4.0</td>\n",
       "      <td>stressed</td>\n",
       "      <td>4.0</td>\n",
       "      <td>annoyed</td>\n",
       "      <td>4.0</td>\n",
       "      <td>NaN</td>\n",
       "      <td>NaN</td>\n",
       "      <td>frustrated stressed annoyed</td>\n",
       "    </tr>\n",
       "  </tbody>\n",
       "</table>\n",
       "</div>"
      ],
      "text/plain": [
       "   PPID  Final50  Day   Time  Valence  Arousal       Word1  Intensity1  \\\n",
       "0     2        1    1  10:09       20        2     excited         2.0   \n",
       "1     2        1    1  10:33       32        4        busy         3.0   \n",
       "2     2        1    1  11:24       35       28       happy         3.0   \n",
       "3     2        1    1  11:39       44       47     excited         4.0   \n",
       "4     2        1    1  11:49      -27       38  frustrated         4.0   \n",
       "\n",
       "      Word2  Intensity2    Word3  Intensity3 Word4  Intensity4  \\\n",
       "0       NaN         NaN      NaN         NaN   NaN         NaN   \n",
       "1       NaN         NaN      NaN         NaN   NaN         NaN   \n",
       "2       NaN         NaN      NaN         NaN   NaN         NaN   \n",
       "3   anxious         4.0      NaN         NaN   NaN         NaN   \n",
       "4  stressed         4.0  annoyed         4.0   NaN         NaN   \n",
       "\n",
       "                         Phrase  \n",
       "0                    excited     \n",
       "1                       busy     \n",
       "2                      happy     \n",
       "3             excited anxious    \n",
       "4  frustrated stressed annoyed   "
      ]
     },
     "execution_count": 6,
     "metadata": {},
     "output_type": "execute_result"
    }
   ],
   "source": [
    "df1.head()"
   ]
  },
  {
   "cell_type": "code",
   "execution_count": 7,
   "metadata": {},
   "outputs": [],
   "source": [
    "df2 = pd.read_csv(\"../Input/Study2_PromptData_Cleaned.csv\")"
   ]
  },
  {
   "cell_type": "code",
   "execution_count": 8,
   "metadata": {},
   "outputs": [
    {
     "data": {
      "text/html": [
       "<div>\n",
       "<style scoped>\n",
       "    .dataframe tbody tr th:only-of-type {\n",
       "        vertical-align: middle;\n",
       "    }\n",
       "\n",
       "    .dataframe tbody tr th {\n",
       "        vertical-align: top;\n",
       "    }\n",
       "\n",
       "    .dataframe thead th {\n",
       "        text-align: right;\n",
       "    }\n",
       "</style>\n",
       "<table border=\"1\" class=\"dataframe\">\n",
       "  <thead>\n",
       "    <tr style=\"text-align: right;\">\n",
       "      <th></th>\n",
       "      <th>ParticipantID</th>\n",
       "      <th>Notification Time</th>\n",
       "      <th>Session Name</th>\n",
       "      <th>WeekNumber</th>\n",
       "      <th>NotificationNumber</th>\n",
       "      <th>Completed Session</th>\n",
       "      <th>Session Instance</th>\n",
       "      <th>Session Length</th>\n",
       "      <th>Valence</th>\n",
       "      <th>Intensity</th>\n",
       "      <th>Arousal</th>\n",
       "      <th>Emotion</th>\n",
       "    </tr>\n",
       "  </thead>\n",
       "  <tbody>\n",
       "    <tr>\n",
       "      <th>0</th>\n",
       "      <td>28774-003586</td>\n",
       "      <td>08:28.0</td>\n",
       "      <td>Survey</td>\n",
       "      <td>1.0</td>\n",
       "      <td>1</td>\n",
       "      <td>1</td>\n",
       "      <td>1</td>\n",
       "      <td>01:29.8</td>\n",
       "      <td>4</td>\n",
       "      <td>0</td>\n",
       "      <td>3</td>\n",
       "      <td>neutral</td>\n",
       "    </tr>\n",
       "    <tr>\n",
       "      <th>1</th>\n",
       "      <td>28774-003586</td>\n",
       "      <td>50:41.0</td>\n",
       "      <td>Survey</td>\n",
       "      <td>1.0</td>\n",
       "      <td>2</td>\n",
       "      <td>1</td>\n",
       "      <td>2</td>\n",
       "      <td>01:24.4</td>\n",
       "      <td>5</td>\n",
       "      <td>1</td>\n",
       "      <td>3</td>\n",
       "      <td>just</td>\n",
       "    </tr>\n",
       "    <tr>\n",
       "      <th>2</th>\n",
       "      <td>28774-003586</td>\n",
       "      <td>35:25.0</td>\n",
       "      <td>Survey</td>\n",
       "      <td>1.0</td>\n",
       "      <td>3</td>\n",
       "      <td>1</td>\n",
       "      <td>3</td>\n",
       "      <td>00:59.4</td>\n",
       "      <td>7</td>\n",
       "      <td>3</td>\n",
       "      <td>7</td>\n",
       "      <td>engaged</td>\n",
       "    </tr>\n",
       "    <tr>\n",
       "      <th>3</th>\n",
       "      <td>28774-003586</td>\n",
       "      <td>25:09.0</td>\n",
       "      <td>Survey</td>\n",
       "      <td>1.0</td>\n",
       "      <td>4</td>\n",
       "      <td>1</td>\n",
       "      <td>4</td>\n",
       "      <td>01:18.2</td>\n",
       "      <td>5</td>\n",
       "      <td>1</td>\n",
       "      <td>3</td>\n",
       "      <td>serine</td>\n",
       "    </tr>\n",
       "    <tr>\n",
       "      <th>4</th>\n",
       "      <td>28774-003586</td>\n",
       "      <td>33:34.0</td>\n",
       "      <td>Survey</td>\n",
       "      <td>1.0</td>\n",
       "      <td>6</td>\n",
       "      <td>1</td>\n",
       "      <td>5</td>\n",
       "      <td>00:58.4</td>\n",
       "      <td>6</td>\n",
       "      <td>2</td>\n",
       "      <td>5</td>\n",
       "      <td>Engaged</td>\n",
       "    </tr>\n",
       "  </tbody>\n",
       "</table>\n",
       "</div>"
      ],
      "text/plain": [
       "  ParticipantID Notification Time Session Name  WeekNumber  \\\n",
       "0  28774-003586           08:28.0       Survey         1.0   \n",
       "1  28774-003586           50:41.0       Survey         1.0   \n",
       "2  28774-003586           35:25.0       Survey         1.0   \n",
       "3  28774-003586           25:09.0       Survey         1.0   \n",
       "4  28774-003586           33:34.0       Survey         1.0   \n",
       "\n",
       "   NotificationNumber  Completed Session  Session Instance Session Length  \\\n",
       "0                   1                  1                 1        01:29.8   \n",
       "1                   2                  1                 2        01:24.4   \n",
       "2                   3                  1                 3        00:59.4   \n",
       "3                   4                  1                 4        01:18.2   \n",
       "4                   6                  1                 5        00:58.4   \n",
       "\n",
       "   Valence  Intensity  Arousal   Emotion  \n",
       "0        4          0        3  neutral   \n",
       "1        5          1        3      just  \n",
       "2        7          3        7  engaged   \n",
       "3        5          1        3   serine   \n",
       "4        6          2        5  Engaged   "
      ]
     },
     "execution_count": 8,
     "metadata": {},
     "output_type": "execute_result"
    }
   ],
   "source": [
    "df2.head()"
   ]
  },
  {
   "cell_type": "code",
   "execution_count": 16,
   "metadata": {},
   "outputs": [],
   "source": [
    "df1['Phrase'] = df1['Phrase'].str.strip()\n",
    "df2['Emotion'] = df2['Emotion'].str.strip()"
   ]
  },
  {
   "cell_type": "code",
   "execution_count": 23,
   "metadata": {},
   "outputs": [
    {
     "name": "stdout",
     "output_type": "stream",
     "text": [
      "0\n",
      "0\n"
     ]
    }
   ],
   "source": [
    "print(df1['Phrase'].isna().sum())\n",
    "print(df2['Emotion'].isna().sum())"
   ]
  },
  {
   "cell_type": "code",
   "execution_count": 98,
   "metadata": {},
   "outputs": [],
   "source": [
    "df1['Phrase'] = df1['Phrase'].str.replace('\\r', ' ').str.replace('\\n', ' ').replace('\\s+', ' ', regex=True)\n",
    "df2['Emotion'] = df2['Emotion'].str.replace('\\r', ' ').str.replace('\\n', ' ').replace('\\s+', ' ', regex=True)"
   ]
  },
  {
   "cell_type": "code",
   "execution_count": 99,
   "metadata": {},
   "outputs": [],
   "source": [
    "df1_unique_phrases = df1['Phrase'].unique()"
   ]
  },
  {
   "cell_type": "code",
   "execution_count": 100,
   "metadata": {},
   "outputs": [],
   "source": [
    "df2_unique_phrases = df2['Emotion'].unique()"
   ]
  },
  {
   "cell_type": "code",
   "execution_count": 101,
   "metadata": {},
   "outputs": [
    {
     "data": {
      "text/plain": [
       "1717"
      ]
     },
     "execution_count": 101,
     "metadata": {},
     "output_type": "execute_result"
    }
   ],
   "source": [
    "len(df1_unique_phrases)"
   ]
  },
  {
   "cell_type": "code",
   "execution_count": 102,
   "metadata": {},
   "outputs": [
    {
     "data": {
      "text/plain": [
       "7553"
      ]
     },
     "execution_count": 102,
     "metadata": {},
     "output_type": "execute_result"
    }
   ],
   "source": [
    "len(df2_unique_phrases)"
   ]
  },
  {
   "cell_type": "markdown",
   "metadata": {},
   "source": [
    "### Part 1: NN Inference"
   ]
  },
  {
   "cell_type": "code",
   "execution_count": 103,
   "metadata": {},
   "outputs": [
    {
     "data": {
      "application/vnd.jupyter.widget-view+json": {
       "model_id": "e6ad5a624dd64d8db04cbff25c58d01b",
       "version_major": 2,
       "version_minor": 0
      },
      "text/plain": [
       "Batches:   0%|          | 0/54 [00:00<?, ?it/s]"
      ]
     },
     "metadata": {},
     "output_type": "display_data"
    }
   ],
   "source": [
    "#get the roberta positions for the unique words\n",
    "roberta1 = model.encode(df1_unique_phrases,show_progress_bar=True)\n",
    "roberta_dict1 = dict(zip(df1_unique_phrases, roberta1))"
   ]
  },
  {
   "cell_type": "code",
   "execution_count": 104,
   "metadata": {},
   "outputs": [
    {
     "data": {
      "application/vnd.jupyter.widget-view+json": {
       "model_id": "95e87b462de747e6aa66a3ee87de9bb8",
       "version_major": 2,
       "version_minor": 0
      },
      "text/plain": [
       "Batches:   0%|          | 0/237 [00:00<?, ?it/s]"
      ]
     },
     "metadata": {},
     "output_type": "display_data"
    }
   ],
   "source": [
    "roberta2 = model.encode(df2_unique_phrases,show_progress_bar=True)\n",
    "roberta_dict2 = dict(zip(df2_unique_phrases, roberta2))"
   ]
  },
  {
   "cell_type": "code",
   "execution_count": 108,
   "metadata": {},
   "outputs": [],
   "source": [
    "Property = pd.read_table(\"../../NRC_Data/NRC-VAD-Lexicon/NRC-VAD-Lexicon.txt\",header=None)"
   ]
  },
  {
   "cell_type": "code",
   "execution_count": 109,
   "metadata": {},
   "outputs": [],
   "source": [
    "Property.columns = ['Word','Valence','Arousal','Dominance']"
   ]
  },
  {
   "cell_type": "code",
   "execution_count": 110,
   "metadata": {},
   "outputs": [
    {
     "data": {
      "text/html": [
       "<div>\n",
       "<style scoped>\n",
       "    .dataframe tbody tr th:only-of-type {\n",
       "        vertical-align: middle;\n",
       "    }\n",
       "\n",
       "    .dataframe tbody tr th {\n",
       "        vertical-align: top;\n",
       "    }\n",
       "\n",
       "    .dataframe thead th {\n",
       "        text-align: right;\n",
       "    }\n",
       "</style>\n",
       "<table border=\"1\" class=\"dataframe\">\n",
       "  <thead>\n",
       "    <tr style=\"text-align: right;\">\n",
       "      <th></th>\n",
       "      <th>Valence</th>\n",
       "      <th>Arousal</th>\n",
       "      <th>Dominance</th>\n",
       "    </tr>\n",
       "  </thead>\n",
       "  <tbody>\n",
       "    <tr>\n",
       "      <th>Valence</th>\n",
       "      <td>1.000000</td>\n",
       "      <td>-0.268083</td>\n",
       "      <td>0.487737</td>\n",
       "    </tr>\n",
       "    <tr>\n",
       "      <th>Arousal</th>\n",
       "      <td>-0.268083</td>\n",
       "      <td>1.000000</td>\n",
       "      <td>0.302340</td>\n",
       "    </tr>\n",
       "    <tr>\n",
       "      <th>Dominance</th>\n",
       "      <td>0.487737</td>\n",
       "      <td>0.302340</td>\n",
       "      <td>1.000000</td>\n",
       "    </tr>\n",
       "  </tbody>\n",
       "</table>\n",
       "</div>"
      ],
      "text/plain": [
       "            Valence   Arousal  Dominance\n",
       "Valence    1.000000 -0.268083   0.487737\n",
       "Arousal   -0.268083  1.000000   0.302340\n",
       "Dominance  0.487737  0.302340   1.000000"
      ]
     },
     "execution_count": 110,
     "metadata": {},
     "output_type": "execute_result"
    }
   ],
   "source": [
    "Property[['Valence','Arousal','Dominance']].corr()"
   ]
  },
  {
   "cell_type": "code",
   "execution_count": 130,
   "metadata": {},
   "outputs": [],
   "source": [
    "WORDPROP = \"Valence\""
   ]
  },
  {
   "cell_type": "code",
   "execution_count": 116,
   "metadata": {},
   "outputs": [],
   "source": [
    "#Valence= {Shit, Nightmare, Toxic' to {Love, Very positive, Enjoyable}\n",
    "#Arousal = {Siesta, Napping, Mellow} to {Homicide, Exorcism, Abduction\"\n",
    "#Dominance = {Weak, Frail, Empty} to {Success, Leadership, Powerful}"
   ]
  },
  {
   "cell_type": "code",
   "execution_count": 117,
   "metadata": {},
   "outputs": [
    {
     "data": {
      "text/html": [
       "<div>\n",
       "<style scoped>\n",
       "    .dataframe tbody tr th:only-of-type {\n",
       "        vertical-align: middle;\n",
       "    }\n",
       "\n",
       "    .dataframe tbody tr th {\n",
       "        vertical-align: top;\n",
       "    }\n",
       "\n",
       "    .dataframe thead th {\n",
       "        text-align: right;\n",
       "    }\n",
       "</style>\n",
       "<table border=\"1\" class=\"dataframe\">\n",
       "  <thead>\n",
       "    <tr style=\"text-align: right;\">\n",
       "      <th></th>\n",
       "      <th>Word</th>\n",
       "      <th>Valence</th>\n",
       "      <th>Arousal</th>\n",
       "      <th>Dominance</th>\n",
       "    </tr>\n",
       "  </thead>\n",
       "  <tbody>\n",
       "    <tr>\n",
       "      <th>0</th>\n",
       "      <td>aaaaaaah</td>\n",
       "      <td>0.479</td>\n",
       "      <td>0.606</td>\n",
       "      <td>0.291</td>\n",
       "    </tr>\n",
       "    <tr>\n",
       "      <th>1</th>\n",
       "      <td>aaaah</td>\n",
       "      <td>0.520</td>\n",
       "      <td>0.636</td>\n",
       "      <td>0.282</td>\n",
       "    </tr>\n",
       "    <tr>\n",
       "      <th>2</th>\n",
       "      <td>aardvark</td>\n",
       "      <td>0.427</td>\n",
       "      <td>0.490</td>\n",
       "      <td>0.437</td>\n",
       "    </tr>\n",
       "    <tr>\n",
       "      <th>3</th>\n",
       "      <td>aback</td>\n",
       "      <td>0.385</td>\n",
       "      <td>0.407</td>\n",
       "      <td>0.288</td>\n",
       "    </tr>\n",
       "    <tr>\n",
       "      <th>4</th>\n",
       "      <td>abacus</td>\n",
       "      <td>0.510</td>\n",
       "      <td>0.276</td>\n",
       "      <td>0.485</td>\n",
       "    </tr>\n",
       "    <tr>\n",
       "      <th>...</th>\n",
       "      <td>...</td>\n",
       "      <td>...</td>\n",
       "      <td>...</td>\n",
       "      <td>...</td>\n",
       "    </tr>\n",
       "    <tr>\n",
       "      <th>19966</th>\n",
       "      <td>zoo</td>\n",
       "      <td>0.760</td>\n",
       "      <td>0.520</td>\n",
       "      <td>0.580</td>\n",
       "    </tr>\n",
       "    <tr>\n",
       "      <th>19967</th>\n",
       "      <td>zoological</td>\n",
       "      <td>0.667</td>\n",
       "      <td>0.458</td>\n",
       "      <td>0.492</td>\n",
       "    </tr>\n",
       "    <tr>\n",
       "      <th>19968</th>\n",
       "      <td>zoology</td>\n",
       "      <td>0.568</td>\n",
       "      <td>0.347</td>\n",
       "      <td>0.509</td>\n",
       "    </tr>\n",
       "    <tr>\n",
       "      <th>19969</th>\n",
       "      <td>zoom</td>\n",
       "      <td>0.490</td>\n",
       "      <td>0.520</td>\n",
       "      <td>0.462</td>\n",
       "    </tr>\n",
       "    <tr>\n",
       "      <th>19970</th>\n",
       "      <td>zucchini</td>\n",
       "      <td>0.510</td>\n",
       "      <td>0.321</td>\n",
       "      <td>0.250</td>\n",
       "    </tr>\n",
       "  </tbody>\n",
       "</table>\n",
       "<p>19971 rows × 4 columns</p>\n",
       "</div>"
      ],
      "text/plain": [
       "             Word  Valence  Arousal  Dominance\n",
       "0        aaaaaaah    0.479    0.606      0.291\n",
       "1           aaaah    0.520    0.636      0.282\n",
       "2        aardvark    0.427    0.490      0.437\n",
       "3           aback    0.385    0.407      0.288\n",
       "4          abacus    0.510    0.276      0.485\n",
       "...           ...      ...      ...        ...\n",
       "19966         zoo    0.760    0.520      0.580\n",
       "19967  zoological    0.667    0.458      0.492\n",
       "19968     zoology    0.568    0.347      0.509\n",
       "19969        zoom    0.490    0.520      0.462\n",
       "19970    zucchini    0.510    0.321      0.250\n",
       "\n",
       "[19971 rows x 4 columns]"
      ]
     },
     "execution_count": 117,
     "metadata": {},
     "output_type": "execute_result"
    }
   ],
   "source": [
    "Property"
   ]
  },
  {
   "cell_type": "code",
   "execution_count": 118,
   "metadata": {},
   "outputs": [],
   "source": [
    "Property = Property[['Word',WORDPROP]]"
   ]
  },
  {
   "cell_type": "code",
   "execution_count": 119,
   "metadata": {},
   "outputs": [
    {
     "data": {
      "text/html": [
       "<div>\n",
       "<style scoped>\n",
       "    .dataframe tbody tr th:only-of-type {\n",
       "        vertical-align: middle;\n",
       "    }\n",
       "\n",
       "    .dataframe tbody tr th {\n",
       "        vertical-align: top;\n",
       "    }\n",
       "\n",
       "    .dataframe thead th {\n",
       "        text-align: right;\n",
       "    }\n",
       "</style>\n",
       "<table border=\"1\" class=\"dataframe\">\n",
       "  <thead>\n",
       "    <tr style=\"text-align: right;\">\n",
       "      <th></th>\n",
       "      <th>Word</th>\n",
       "      <th>Valence</th>\n",
       "    </tr>\n",
       "  </thead>\n",
       "  <tbody>\n",
       "    <tr>\n",
       "      <th>11915</th>\n",
       "      <td>NaN</td>\n",
       "      <td>0.253</td>\n",
       "    </tr>\n",
       "  </tbody>\n",
       "</table>\n",
       "</div>"
      ],
      "text/plain": [
       "      Word  Valence\n",
       "11915  NaN    0.253"
      ]
     },
     "execution_count": 119,
     "metadata": {},
     "output_type": "execute_result"
    }
   ],
   "source": [
    " Property[pd.isnull(Property['Word'])]"
   ]
  },
  {
   "cell_type": "code",
   "execution_count": 120,
   "metadata": {},
   "outputs": [],
   "source": [
    "Property = Property[~pd.isnull(Property['Word'])]"
   ]
  },
  {
   "cell_type": "code",
   "execution_count": 121,
   "metadata": {},
   "outputs": [
    {
     "data": {
      "text/plain": [
       "19970"
      ]
     },
     "execution_count": 121,
     "metadata": {},
     "output_type": "execute_result"
    }
   ],
   "source": [
    "len(Property)"
   ]
  },
  {
   "cell_type": "code",
   "execution_count": 122,
   "metadata": {},
   "outputs": [
    {
     "data": {
      "application/vnd.jupyter.widget-view+json": {
       "model_id": "bd9ec6bc63464a1faa85e29ce23d4a4d",
       "version_major": 2,
       "version_minor": 0
      },
      "text/plain": [
       "Batches:   0%|          | 0/625 [00:00<?, ?it/s]"
      ]
     },
     "metadata": {},
     "output_type": "display_data"
    }
   ],
   "source": [
    "WordPropertyRoberta = model.encode(Property['Word'].values.tolist(),\n",
    "                                   show_progress_bar=True)"
   ]
  },
  {
   "cell_type": "code",
   "execution_count": 123,
   "metadata": {},
   "outputs": [],
   "source": [
    "roberta_dict_property = dict(zip(Property['Word'].values.tolist(), WordPropertyRoberta))"
   ]
  },
  {
   "cell_type": "code",
   "execution_count": 124,
   "metadata": {},
   "outputs": [],
   "source": [
    "roberta_dict_property = dict(zip(Property['Word'].values.tolist(), WordPropertyRoberta))\n",
    "Property['robertaVec'] = Property['Word'].apply(lambda x: roberta_dict_property[x])"
   ]
  },
  {
   "cell_type": "code",
   "execution_count": 125,
   "metadata": {},
   "outputs": [],
   "source": [
    "def GetProperty(word,RatedData,WordProp,topN,weightbydistance=False,TestInference = False,\n",
    "               AlreadyEncoded=False):\n",
    "    \"\"\"\n",
    "    Performs nearest neighbors inference to geta at word properties. \n",
    "    \n",
    "    >>>> Currently hardcoded for Property <<<<<\n",
    "    \n",
    "    INPUT DATATYPES:\n",
    "        word: String\n",
    "        Property: 3 Column Dataframe consisting of *words*,*Property ratings*, and *roberta vectors* \n",
    "        topN: Int / number of nearest neighbors to use\n",
    "        weightbydistance: Boolean\n",
    "        TestInference: Boolean\n",
    "        #TODO: AlreadEncoded: Boolean, controls whether this program gets a word or an already enocded word vector\n",
    "        \n",
    "    \n",
    "    NOTES:\n",
    "        - This algorithim uses COSINE Distance\n",
    "        \n",
    "        - If TestInference == False, the function performs a lookup. If the lookup fails, it does NN inference.\n",
    "            Use this option if a) speed is a concern or b) you want the exact rating if the word was rated.\n",
    "        \n",
    "\n",
    "        - If TestInferences == True, the function skips the lookup part and does NN inference for the word.\n",
    "            If the word is in the word-ratings, it removes the word from the NN search,\n",
    "            and then performs NN inference.\n",
    "   \n",
    "        - Potential ways to extend this: \n",
    "            * Generalize beyond hard-coded Property or hard-coded valence\n",
    "            * Use more than one vector space\n",
    "            * Use an empirically determined radius cutoff instead of N nearest neighbors\n",
    "            \n",
    "            * Use a small neural network to dynamically determine the weights once the topN positions\n",
    "                are selected.\n",
    "        \n",
    "            * Somehow incorporate the inverse of the furthest away neighbors?\n",
    "            \n",
    "        - Potential ways to improve performance:\n",
    "            * Ball-tree index for discarding things that are near other points too far away to be\n",
    "                nearest neighbors\n",
    "            * Boost ram\n",
    "            * Apply this function in parallel. \n",
    "   \n",
    "    \"\"\"\n",
    "    RatedData = RatedData.copy(deep=True)\n",
    "    word = word.lower() #\n",
    "    \n",
    "    # If the word is known...\n",
    "    if word in set(RatedData['Word']):\n",
    "        \n",
    "         #and if we want to just perform the lookup...\n",
    "        if not TestInference:\n",
    "            print(\"LOOKUP\")\n",
    "            #...look up the rated value in the dataframe\n",
    "            c = RatedData[RatedData['Word']==word][WordProp].values[0]\n",
    "            return c\n",
    "        \n",
    "        \n",
    "        #otherwise...\n",
    "        else:\n",
    "            #...remove the word from the dataframe and proceed\n",
    "            RatedData = RatedData[RatedData['Word']!= word]\n",
    "   \n",
    "    #print(len(RatedData))\n",
    "    #get the position for the target word in question:\n",
    "    TargetVector = model.encode(word)# / mu[0][0:768]\n",
    "    #TV = np.dot(TargetVector, W)\n",
    "    TargetDistances_NRC  = sp.spatial.distance.cdist(TargetVector.reshape(1,-1),\n",
    "                                                     np.stack(RatedData['robertaVec'].values),\n",
    "                                                     metric='cosine'\n",
    "                                                    )\n",
    "                            #^^ sp...cdist() quickly gets the cosine distance between all of \n",
    "                            # the points in the first input and all of the points in the \n",
    "                            # second input. In this case, the first input is a single point.\n",
    "                \n",
    "                            ## np.stack() re-arranges the values of the robertaVec vectors to be in a format\n",
    "                            ## that plays nicely with sp.spatial.distance.cdist()\n",
    "        \n",
    "    \n",
    "    #Now, transfer the distances back to the Property dataframe and sort\n",
    "    RatedData.loc[:,'TargetDistances'] = TargetDistances_NRC[0]\n",
    "    Sorted_Data = RatedData.sort_values('TargetDistances') #sorts from small to big by default.\n",
    "    \n",
    "    #We are now in a position where the top N Sorted_Property entries are the nearest neighbors.\n",
    "\n",
    "    if weightbydistance:\n",
    "        #STEPS:\n",
    "        #A: Scale the distances by taking ratio of each to the max possible distance\n",
    "        #B: Subtract each scaled distance from 1 to use as weights: closer distances are now closer to 1\n",
    "        #C: Rescale the weights to be percentages\n",
    "        #D: Take a weighted average.\n",
    "     \n",
    "        #be sure to use N+1 nearest neighbors, as the furthest away neighbor gets shrunk to 0.\n",
    "        \n",
    "        # ------------\n",
    "        \n",
    "        #Get the Nearest N+1 words and corresponding distances\n",
    "        #print(Sorted_Property.head())\n",
    "        Top_NRC = Sorted_Data[['Word',WordProp,'TargetDistances']].iloc[0:topN+1]\n",
    "        #If the word isn't taken out of the dataset, this should be change to be 0 to topN\n",
    "        \n",
    "        #Divide all of the distances by the furthest away distance,\n",
    "        #and,\n",
    "        #invert the scaled distances so that the closest ones get the biggest weight:\n",
    "        Top_NRC.loc[:,'ScaledDistances'] = 1 - Top_NRC['TargetDistances']/Top_NRC['TargetDistances'].max()\n",
    "        \n",
    "        #convert the weights to percentages (first step in computing a weighted average)\n",
    "        Top_NRC.loc[:,'SDWeights'] = Top_NRC['ScaledDistances']/Top_NRC['ScaledDistances'].sum()\n",
    "\n",
    "        #the next two lines complete the weighted average calculation\n",
    "        Weighted=  Top_NRC['SDWeights'] * Top_NRC[WordProp]\n",
    "       \n",
    "        NRC_Infered_Valence = Weighted.sum()\n",
    "        return NRC_Infered_Valence\n",
    "    else:\n",
    "        Top_NRC = Sorted_Data[['Word',WordProp,'TargetDistances']].head(topN)\n",
    "        return Top_NRC['Valence'].sum()/len(Top_NRC)\n"
   ]
  },
  {
   "cell_type": "code",
   "execution_count": 74,
   "metadata": {},
   "outputs": [],
   "source": [
    "sample = Property.sample(500) #for testing the NN inference accuracy"
   ]
  },
  {
   "cell_type": "code",
   "execution_count": 75,
   "metadata": {
    "scrolled": true
   },
   "outputs": [],
   "source": [
    "#sample_infer = [GetProperty(x,Property,'Valence',10,True,True) for x in sample['Word'].values.tolist()]"
   ]
  },
  {
   "cell_type": "code",
   "execution_count": 76,
   "metadata": {},
   "outputs": [],
   "source": [
    "#sp.stats.pearsonr(sample['Valence'],sample_infer)"
   ]
  },
  {
   "cell_type": "code",
   "execution_count": 77,
   "metadata": {},
   "outputs": [],
   "source": [
    "BetterSampleInfer = [GetProperty('I feel '+x,Property,'Valence',10,True,True) for x in sample['Word'].values.tolist()]"
   ]
  },
  {
   "cell_type": "code",
   "execution_count": 78,
   "metadata": {},
   "outputs": [
    {
     "data": {
      "text/plain": [
       "PearsonRResult(statistic=0.8988209754950441, pvalue=1.6191253426152356e-180)"
      ]
     },
     "execution_count": 78,
     "metadata": {},
     "output_type": "execute_result"
    }
   ],
   "source": [
    "sp.stats.pearsonr(sample['Valence'],BetterSampleInfer) # the value below changes slightly depending on the sample, from ~.88 to ~.91"
   ]
  },
  {
   "cell_type": "code",
   "execution_count": 82,
   "metadata": {},
   "outputs": [],
   "source": [
    "from matplotlib import pyplot as plt"
   ]
  },
  {
   "cell_type": "code",
   "execution_count": 83,
   "metadata": {},
   "outputs": [
    {
     "data": {
      "text/plain": [
       "Text(0.5, 1.0, \"Actual vs. Inferred Valences, 500 random words, 'multi-qa-mpnet-base-dot-v1'\")"
      ]
     },
     "execution_count": 83,
     "metadata": {},
     "output_type": "execute_result"
    },
    {
     "data": {
      "image/png": "[encoded data removed]",
      "text/plain": [
       "<Figure size 640x480 with 1 Axes>"
      ]
     },
     "metadata": {
      "image/png": {
       "height": 434,
       "width": 673
      }
     },
     "output_type": "display_data"
    }
   ],
   "source": [
    "plt.scatter(sample['Valence'],BetterSampleInfer)\n",
    "plt.title(\"Actual vs. Inferred Valences, 500 random words, 'multi-qa-mpnet-base-dot-v1'\")"
   ]
  },
  {
   "cell_type": "markdown",
   "metadata": {},
   "source": [
    "## Actual inference"
   ]
  },
  {
   "cell_type": "code",
   "execution_count": 84,
   "metadata": {},
   "outputs": [
    {
     "data": {
      "text/html": [
       "<div>\n",
       "<style scoped>\n",
       "    .dataframe tbody tr th:only-of-type {\n",
       "        vertical-align: middle;\n",
       "    }\n",
       "\n",
       "    .dataframe tbody tr th {\n",
       "        vertical-align: top;\n",
       "    }\n",
       "\n",
       "    .dataframe thead th {\n",
       "        text-align: right;\n",
       "    }\n",
       "</style>\n",
       "<table border=\"1\" class=\"dataframe\">\n",
       "  <thead>\n",
       "    <tr style=\"text-align: right;\">\n",
       "      <th></th>\n",
       "      <th>PPID</th>\n",
       "      <th>Final50</th>\n",
       "      <th>Day</th>\n",
       "      <th>Time</th>\n",
       "      <th>Valence</th>\n",
       "      <th>Arousal</th>\n",
       "      <th>Word1</th>\n",
       "      <th>Intensity1</th>\n",
       "      <th>Word2</th>\n",
       "      <th>Intensity2</th>\n",
       "      <th>Word3</th>\n",
       "      <th>Intensity3</th>\n",
       "      <th>Word4</th>\n",
       "      <th>Intensity4</th>\n",
       "      <th>Phrase</th>\n",
       "    </tr>\n",
       "  </thead>\n",
       "  <tbody>\n",
       "    <tr>\n",
       "      <th>0</th>\n",
       "      <td>2</td>\n",
       "      <td>1</td>\n",
       "      <td>1</td>\n",
       "      <td>10:09</td>\n",
       "      <td>20</td>\n",
       "      <td>2</td>\n",
       "      <td>excited</td>\n",
       "      <td>2.0</td>\n",
       "      <td>NaN</td>\n",
       "      <td>NaN</td>\n",
       "      <td>NaN</td>\n",
       "      <td>NaN</td>\n",
       "      <td>NaN</td>\n",
       "      <td>NaN</td>\n",
       "      <td>excited</td>\n",
       "    </tr>\n",
       "    <tr>\n",
       "      <th>1</th>\n",
       "      <td>2</td>\n",
       "      <td>1</td>\n",
       "      <td>1</td>\n",
       "      <td>10:33</td>\n",
       "      <td>32</td>\n",
       "      <td>4</td>\n",
       "      <td>busy</td>\n",
       "      <td>3.0</td>\n",
       "      <td>NaN</td>\n",
       "      <td>NaN</td>\n",
       "      <td>NaN</td>\n",
       "      <td>NaN</td>\n",
       "      <td>NaN</td>\n",
       "      <td>NaN</td>\n",
       "      <td>busy</td>\n",
       "    </tr>\n",
       "    <tr>\n",
       "      <th>2</th>\n",
       "      <td>2</td>\n",
       "      <td>1</td>\n",
       "      <td>1</td>\n",
       "      <td>11:24</td>\n",
       "      <td>35</td>\n",
       "      <td>28</td>\n",
       "      <td>happy</td>\n",
       "      <td>3.0</td>\n",
       "      <td>NaN</td>\n",
       "      <td>NaN</td>\n",
       "      <td>NaN</td>\n",
       "      <td>NaN</td>\n",
       "      <td>NaN</td>\n",
       "      <td>NaN</td>\n",
       "      <td>happy</td>\n",
       "    </tr>\n",
       "    <tr>\n",
       "      <th>3</th>\n",
       "      <td>2</td>\n",
       "      <td>1</td>\n",
       "      <td>1</td>\n",
       "      <td>11:39</td>\n",
       "      <td>44</td>\n",
       "      <td>47</td>\n",
       "      <td>excited</td>\n",
       "      <td>4.0</td>\n",
       "      <td>anxious</td>\n",
       "      <td>4.0</td>\n",
       "      <td>NaN</td>\n",
       "      <td>NaN</td>\n",
       "      <td>NaN</td>\n",
       "      <td>NaN</td>\n",
       "      <td>excited anxious</td>\n",
       "    </tr>\n",
       "    <tr>\n",
       "      <th>4</th>\n",
       "      <td>2</td>\n",
       "      <td>1</td>\n",
       "      <td>1</td>\n",
       "      <td>11:49</td>\n",
       "      <td>-27</td>\n",
       "      <td>38</td>\n",
       "      <td>frustrated</td>\n",
       "      <td>4.0</td>\n",
       "      <td>stressed</td>\n",
       "      <td>4.0</td>\n",
       "      <td>annoyed</td>\n",
       "      <td>4.0</td>\n",
       "      <td>NaN</td>\n",
       "      <td>NaN</td>\n",
       "      <td>frustrated stressed annoyed</td>\n",
       "    </tr>\n",
       "    <tr>\n",
       "      <th>...</th>\n",
       "      <td>...</td>\n",
       "      <td>...</td>\n",
       "      <td>...</td>\n",
       "      <td>...</td>\n",
       "      <td>...</td>\n",
       "      <td>...</td>\n",
       "      <td>...</td>\n",
       "      <td>...</td>\n",
       "      <td>...</td>\n",
       "      <td>...</td>\n",
       "      <td>...</td>\n",
       "      <td>...</td>\n",
       "      <td>...</td>\n",
       "      <td>...</td>\n",
       "      <td>...</td>\n",
       "    </tr>\n",
       "    <tr>\n",
       "      <th>5567</th>\n",
       "      <td>68</td>\n",
       "      <td>1</td>\n",
       "      <td>14</td>\n",
       "      <td>11:05</td>\n",
       "      <td>18</td>\n",
       "      <td>-30</td>\n",
       "      <td>happy</td>\n",
       "      <td>4.0</td>\n",
       "      <td>NaN</td>\n",
       "      <td>NaN</td>\n",
       "      <td>NaN</td>\n",
       "      <td>NaN</td>\n",
       "      <td>NaN</td>\n",
       "      <td>NaN</td>\n",
       "      <td>happy</td>\n",
       "    </tr>\n",
       "    <tr>\n",
       "      <th>5568</th>\n",
       "      <td>68</td>\n",
       "      <td>1</td>\n",
       "      <td>14</td>\n",
       "      <td>11:15</td>\n",
       "      <td>18</td>\n",
       "      <td>21</td>\n",
       "      <td>happy</td>\n",
       "      <td>4.0</td>\n",
       "      <td>NaN</td>\n",
       "      <td>NaN</td>\n",
       "      <td>NaN</td>\n",
       "      <td>NaN</td>\n",
       "      <td>NaN</td>\n",
       "      <td>NaN</td>\n",
       "      <td>happy</td>\n",
       "    </tr>\n",
       "    <tr>\n",
       "      <th>5569</th>\n",
       "      <td>68</td>\n",
       "      <td>1</td>\n",
       "      <td>14</td>\n",
       "      <td>12:08</td>\n",
       "      <td>24</td>\n",
       "      <td>-28</td>\n",
       "      <td>happy</td>\n",
       "      <td>4.0</td>\n",
       "      <td>NaN</td>\n",
       "      <td>NaN</td>\n",
       "      <td>NaN</td>\n",
       "      <td>NaN</td>\n",
       "      <td>NaN</td>\n",
       "      <td>NaN</td>\n",
       "      <td>happy</td>\n",
       "    </tr>\n",
       "    <tr>\n",
       "      <th>5570</th>\n",
       "      <td>68</td>\n",
       "      <td>1</td>\n",
       "      <td>14</td>\n",
       "      <td>12:16</td>\n",
       "      <td>20</td>\n",
       "      <td>-31</td>\n",
       "      <td>happy</td>\n",
       "      <td>4.0</td>\n",
       "      <td>NaN</td>\n",
       "      <td>NaN</td>\n",
       "      <td>NaN</td>\n",
       "      <td>NaN</td>\n",
       "      <td>NaN</td>\n",
       "      <td>NaN</td>\n",
       "      <td>happy</td>\n",
       "    </tr>\n",
       "    <tr>\n",
       "      <th>5571</th>\n",
       "      <td>68</td>\n",
       "      <td>1</td>\n",
       "      <td>14</td>\n",
       "      <td>12:40</td>\n",
       "      <td>20</td>\n",
       "      <td>13</td>\n",
       "      <td>neutral</td>\n",
       "      <td>3.0</td>\n",
       "      <td>NaN</td>\n",
       "      <td>NaN</td>\n",
       "      <td>NaN</td>\n",
       "      <td>NaN</td>\n",
       "      <td>NaN</td>\n",
       "      <td>NaN</td>\n",
       "      <td>neutral</td>\n",
       "    </tr>\n",
       "  </tbody>\n",
       "</table>\n",
       "<p>5572 rows × 15 columns</p>\n",
       "</div>"
      ],
      "text/plain": [
       "      PPID  Final50  Day   Time  Valence  Arousal       Word1  Intensity1  \\\n",
       "0        2        1    1  10:09       20        2     excited         2.0   \n",
       "1        2        1    1  10:33       32        4        busy         3.0   \n",
       "2        2        1    1  11:24       35       28       happy         3.0   \n",
       "3        2        1    1  11:39       44       47     excited         4.0   \n",
       "4        2        1    1  11:49      -27       38  frustrated         4.0   \n",
       "...    ...      ...  ...    ...      ...      ...         ...         ...   \n",
       "5567    68        1   14  11:05       18      -30       happy         4.0   \n",
       "5568    68        1   14  11:15       18       21       happy         4.0   \n",
       "5569    68        1   14  12:08       24      -28       happy         4.0   \n",
       "5570    68        1   14  12:16       20      -31       happy         4.0   \n",
       "5571    68        1   14  12:40       20       13     neutral         3.0   \n",
       "\n",
       "         Word2  Intensity2    Word3  Intensity3 Word4  Intensity4  \\\n",
       "0          NaN         NaN      NaN         NaN   NaN         NaN   \n",
       "1          NaN         NaN      NaN         NaN   NaN         NaN   \n",
       "2          NaN         NaN      NaN         NaN   NaN         NaN   \n",
       "3      anxious         4.0      NaN         NaN   NaN         NaN   \n",
       "4     stressed         4.0  annoyed         4.0   NaN         NaN   \n",
       "...        ...         ...      ...         ...   ...         ...   \n",
       "5567       NaN         NaN      NaN         NaN   NaN         NaN   \n",
       "5568       NaN         NaN      NaN         NaN   NaN         NaN   \n",
       "5569       NaN         NaN      NaN         NaN   NaN         NaN   \n",
       "5570       NaN         NaN      NaN         NaN   NaN         NaN   \n",
       "5571       NaN         NaN      NaN         NaN   NaN         NaN   \n",
       "\n",
       "                           Phrase  \n",
       "0                         excited  \n",
       "1                            busy  \n",
       "2                           happy  \n",
       "3                 excited anxious  \n",
       "4     frustrated stressed annoyed  \n",
       "...                           ...  \n",
       "5567                        happy  \n",
       "5568                        happy  \n",
       "5569                        happy  \n",
       "5570                        happy  \n",
       "5571                      neutral  \n",
       "\n",
       "[5572 rows x 15 columns]"
      ]
     },
     "execution_count": 84,
     "metadata": {},
     "output_type": "execute_result"
    }
   ],
   "source": [
    "df1"
   ]
  },
  {
   "cell_type": "code",
   "execution_count": 126,
   "metadata": {},
   "outputs": [],
   "source": [
    "df1['robertaVec'] = df1['Phrase'].apply(lambda x: roberta_dict1[x])"
   ]
  },
  {
   "cell_type": "code",
   "execution_count": 127,
   "metadata": {},
   "outputs": [],
   "source": [
    "df2['robertaVec'] = df2['Emotion'].apply(lambda x: roberta_dict2[x])"
   ]
  },
  {
   "cell_type": "code",
   "execution_count": 131,
   "metadata": {},
   "outputs": [],
   "source": [
    "df1_valence_values = [GetProperty('I feel '+x,Property,'Valence',10,True,False) for x in df1_unique_phrases] #this could probably be parallelized..."
   ]
  },
  {
   "cell_type": "code",
   "execution_count": 132,
   "metadata": {},
   "outputs": [],
   "source": [
    "df1_valence_dict = dict(zip(df1_unique_phrases, df1_valence_values))"
   ]
  },
  {
   "cell_type": "code",
   "execution_count": 133,
   "metadata": {},
   "outputs": [],
   "source": [
    "df1['InferredValence'] = df1['Phrase'].apply(lambda x: df1_valence_dict[x])"
   ]
  },
  {
   "cell_type": "code",
   "execution_count": 137,
   "metadata": {},
   "outputs": [],
   "source": [
    "df2['robertaVec'] = df2['Emotion'].apply(lambda x: roberta_dict2[x])"
   ]
  },
  {
   "cell_type": "code",
   "execution_count": 139,
   "metadata": {},
   "outputs": [],
   "source": [
    "df2_valence_values = [GetProperty('I feel '+x,Property,'Valence',10,True,False) for x in df2_unique_phrases]"
   ]
  },
  {
   "cell_type": "code",
   "execution_count": 140,
   "metadata": {},
   "outputs": [],
   "source": [
    "df2_vv = dict(zip(df2_unique_phrases,df2_valence_values))"
   ]
  },
  {
   "cell_type": "code",
   "execution_count": 142,
   "metadata": {},
   "outputs": [],
   "source": [
    "df2['InferredValence'] = df2['Emotion'].apply(lambda x: df2_vv[x])"
   ]
  },
  {
   "cell_type": "markdown",
   "metadata": {},
   "source": [
    "#### Saving"
   ]
  },
  {
   "cell_type": "code",
   "execution_count": 167,
   "metadata": {},
   "outputs": [],
   "source": [
    "df1.drop('robertaVec',axis=1).to_csv(\"../Output/Study1_PromptData_Cleaned_WithInferredValence.csv\")\n",
    "#Only saving a subset of columns, but with enough info to be joined with the main df if needed"
   ]
  },
  {
   "cell_type": "code",
   "execution_count": 168,
   "metadata": {},
   "outputs": [],
   "source": [
    "df2.drop('robertaVec',axis=1).to_csv(\"../Output/Study2_PromptData_Cleaned_WithInferredValence.csv\")"
   ]
  },
  {
   "cell_type": "code",
   "execution_count": null,
   "metadata": {},
   "outputs": [],
   "source": []
  },
  {
   "cell_type": "code",
   "execution_count": null,
   "metadata": {},
   "outputs": [],
   "source": [
    "df2[word_columns].apply(lambda x: GetValences(x),axis=1)"
   ]
  },
  {
   "cell_type": "code",
   "execution_count": null,
   "metadata": {},
   "outputs": [],
   "source": [
    "df2[word_columns].apply(lambda x: np.mean(GetValences(x)),axis=1)"
   ]
  },
  {
   "cell_type": "code",
   "execution_count": 154,
   "metadata": {},
   "outputs": [],
   "source": [
    "RelevantSubjects = df1['PPID'].unique().tolist()"
   ]
  },
  {
   "cell_type": "code",
   "execution_count": 155,
   "metadata": {},
   "outputs": [],
   "source": [
    "RelevantSubjects = RelevantSubjects[0:43] + RelevantSubjects[44:48] + RelevantSubjects[49:]"
   ]
  },
  {
   "cell_type": "code",
   "execution_count": 156,
   "metadata": {},
   "outputs": [],
   "source": [
    "assert len(RelevantSubjects) == 50"
   ]
  },
  {
   "cell_type": "code",
   "execution_count": 158,
   "metadata": {},
   "outputs": [
    {
     "ename": "NameError",
     "evalue": "name 'GetAllWords' is not defined",
     "output_type": "error",
     "traceback": [
      "\u001b[0;31m---------------------------------------------------------------------------\u001b[0m",
      "\u001b[0;31mNameError\u001b[0m                                 Traceback (most recent call last)",
      "Cell \u001b[0;32mIn[158], line 1\u001b[0m\n\u001b[0;32m----> 1\u001b[0m ProcessedData \u001b[38;5;241m=\u001b[39m pd\u001b[38;5;241m.\u001b[39mDataFrame([GetPerSubjectData(x,df1) \u001b[38;5;28;01mfor\u001b[39;00m x \u001b[38;5;129;01min\u001b[39;00m RelevantSubjects])\n\u001b[1;32m      3\u001b[0m ProcessedData\u001b[38;5;241m.\u001b[39mcolumns \u001b[38;5;241m=\u001b[39m [\u001b[38;5;124m\"\u001b[39m\u001b[38;5;124mSubjectID\u001b[39m\u001b[38;5;124m\"\u001b[39m,\n\u001b[1;32m      4\u001b[0m                         \u001b[38;5;124m\"\u001b[39m\u001b[38;5;124mCountWords_All\u001b[39m\u001b[38;5;124m\"\u001b[39m,\n\u001b[1;32m      5\u001b[0m                         \u001b[38;5;124m\"\u001b[39m\u001b[38;5;124mCountWords_Uniq\u001b[39m\u001b[38;5;124m\"\u001b[39m,\n\u001b[0;32m   (...)\u001b[0m\n\u001b[1;32m     13\u001b[0m                          \u001b[38;5;124m\"\u001b[39m\u001b[38;5;124mMeanInferredValenceOverAllPrompts\u001b[39m\u001b[38;5;124m\"\u001b[39m,\n\u001b[1;32m     14\u001b[0m                          \u001b[38;5;124m\"\u001b[39m\u001b[38;5;124mMeanRatedValence\u001b[39m\u001b[38;5;124m\"\u001b[39m]\n",
      "Cell \u001b[0;32mIn[158], line 1\u001b[0m, in \u001b[0;36m<listcomp>\u001b[0;34m(.0)\u001b[0m\n\u001b[0;32m----> 1\u001b[0m ProcessedData \u001b[38;5;241m=\u001b[39m pd\u001b[38;5;241m.\u001b[39mDataFrame([\u001b[43mGetPerSubjectData\u001b[49m\u001b[43m(\u001b[49m\u001b[43mx\u001b[49m\u001b[43m,\u001b[49m\u001b[43mdf1\u001b[49m\u001b[43m)\u001b[49m \u001b[38;5;28;01mfor\u001b[39;00m x \u001b[38;5;129;01min\u001b[39;00m RelevantSubjects])\n\u001b[1;32m      3\u001b[0m ProcessedData\u001b[38;5;241m.\u001b[39mcolumns \u001b[38;5;241m=\u001b[39m [\u001b[38;5;124m\"\u001b[39m\u001b[38;5;124mSubjectID\u001b[39m\u001b[38;5;124m\"\u001b[39m,\n\u001b[1;32m      4\u001b[0m                         \u001b[38;5;124m\"\u001b[39m\u001b[38;5;124mCountWords_All\u001b[39m\u001b[38;5;124m\"\u001b[39m,\n\u001b[1;32m      5\u001b[0m                         \u001b[38;5;124m\"\u001b[39m\u001b[38;5;124mCountWords_Uniq\u001b[39m\u001b[38;5;124m\"\u001b[39m,\n\u001b[0;32m   (...)\u001b[0m\n\u001b[1;32m     13\u001b[0m                          \u001b[38;5;124m\"\u001b[39m\u001b[38;5;124mMeanInferredValenceOverAllPrompts\u001b[39m\u001b[38;5;124m\"\u001b[39m,\n\u001b[1;32m     14\u001b[0m                          \u001b[38;5;124m\"\u001b[39m\u001b[38;5;124mMeanRatedValence\u001b[39m\u001b[38;5;124m\"\u001b[39m]\n",
      "Cell \u001b[0;32mIn[152], line 10\u001b[0m, in \u001b[0;36mGetPerSubjectData\u001b[0;34m(SubjectID, df)\u001b[0m\n\u001b[1;32m      7\u001b[0m Subject_df \u001b[38;5;241m=\u001b[39m df[df[\u001b[38;5;124m'\u001b[39m\u001b[38;5;124mPPID\u001b[39m\u001b[38;5;124m'\u001b[39m]\u001b[38;5;241m==\u001b[39mSubjectID]\u001b[38;5;241m.\u001b[39mcopy(deep\u001b[38;5;241m=\u001b[39m\u001b[38;5;28;01mTrue\u001b[39;00m)\n\u001b[1;32m      8\u001b[0m NumPrompts \u001b[38;5;241m=\u001b[39m \u001b[38;5;28mlen\u001b[39m(Subject_df)\n\u001b[0;32m---> 10\u001b[0m SubjectsWords_All \u001b[38;5;241m=\u001b[39m \u001b[43mGetAllWords\u001b[49m(Subject_df) \u001b[38;5;66;03m#defined prior to Section 1, at the top of the notebook\u001b[39;00m\n\u001b[1;32m     11\u001b[0m SubjectsWords_Uniq \u001b[38;5;241m=\u001b[39m GetUniqueWords(Subject_df) \u001b[38;5;66;03m#ditto\u001b[39;00m\n\u001b[1;32m     13\u001b[0m CountWords_All \u001b[38;5;241m=\u001b[39m \u001b[38;5;28mlen\u001b[39m(SubjectsWords_All)\n",
      "\u001b[0;31mNameError\u001b[0m: name 'GetAllWords' is not defined"
     ]
    }
   ],
   "source": [
    "ProcessedData = pd.DataFrame([GetPerSubjectData(x,df1) for x in RelevantSubjects])\n",
    "\n",
    "ProcessedData.columns = [\"SubjectID\",\n",
    "                        \"CountWords_All\",\n",
    "                        \"CountWords_Uniq\",\n",
    "                        \"MeanWordsPerPrompt\",\n",
    "                        \"NumPositiveWords_All\",\n",
    "                        \"NumNegativeWords_All\",\n",
    "                        \"NumPositiveWords_Uniq\",\n",
    "                        \"NumNegativeWords_Uniq\",\n",
    "                        \"ProportionUniquePositive\",\n",
    "                        \"ProportionUniqueNegative\",\n",
    "                         \"MeanInferredValenceOverAllPrompts\",\n",
    "                         \"MeanRatedValence\"]"
   ]
  },
  {
   "cell_type": "code",
   "execution_count": null,
   "metadata": {
    "scrolled": true
   },
   "outputs": [],
   "source": [
    "ProcessedData = ProcessedData.set_index('SubjectID')"
   ]
  },
  {
   "cell_type": "code",
   "execution_count": null,
   "metadata": {},
   "outputs": [],
   "source": [
    "QuestionnaireData = pd.read_csv(\"ARI_QuestionnaireData.csv\")\n",
    "#Strategy is to do the small data transforms in the QuestionnaireData dataframe,\n",
    "#join that to the ProcessedData using the \"ID\" as the key/index,\n",
    "#then get the correlations / the correlations we are interested in."
   ]
  },
  {
   "cell_type": "code",
   "execution_count": null,
   "metadata": {
    "scrolled": true
   },
   "outputs": [],
   "source": [
    "QuestionnaireData = QuestionnaireData.set_index(\"ID\")"
   ]
  },
  {
   "cell_type": "code",
   "execution_count": null,
   "metadata": {
    "scrolled": true
   },
   "outputs": [],
   "source": [
    "QuestionnaireData['GAD7'] = (QuestionnaireData['GAD71.Total'] + QuestionnaireData['GAD72.Total'])/2\n",
    "QuestionnaireData['PHQ8'] = (QuestionnaireData['PHQ81.Total'] + QuestionnaireData['PHQ82.Total'])/2\n",
    "QuestionnaireData['MentalHealth'] = (ssp.zscore(QuestionnaireData['GAD7'],ddof=1) +ssp.zscore(QuestionnaireData['PHQ8'],ddof=1))/2\n",
    "\n",
    "#for the zscore ddof param, see:\n",
    "#https://stackoverflow.com/questions/54453483/zscore-in-python-and-matlab-have-different-result"
   ]
  },
  {
   "cell_type": "code",
   "execution_count": null,
   "metadata": {},
   "outputs": [],
   "source": [
    "FinalData = pd.merge(ProcessedData,QuestionnaireData,left_index=True,right_index=True)\n",
    "#This merge works *because* we already set the index of each dataframe. If one doesn't do that,\n",
    "#one can specify column names"
   ]
  },
  {
   "cell_type": "code",
   "execution_count": null,
   "metadata": {},
   "outputs": [],
   "source": [
    "FinalData.head()"
   ]
  },
  {
   "cell_type": "code",
   "execution_count": null,
   "metadata": {
    "scrolled": true
   },
   "outputs": [],
   "source": [
    "ToCorrelate = FinalData[[\n",
    "         \"MeanWordsPerPrompt\",\n",
    "          'ProportionUniquePositive',\n",
    "          'ProportionUniqueNegative',\n",
    "          'MeanInferredValenceOverAllPrompts',\n",
    "          'MeanRatedValence',\n",
    "          'MentalHealth',\n",
    "          'Neuroticism',\n",
    "          'Extroversion',\n",
    "          'Openness',\n",
    "          'Agreeableness',\n",
    "          'Conscientiousness'\n",
    "         ]]"
   ]
  },
  {
   "cell_type": "code",
   "execution_count": null,
   "metadata": {},
   "outputs": [],
   "source": [
    "ToCorrelate.corr()\n",
    "#defaults to pearson. (Press shift+tab with your cursor between the parens of a function to see defaults etc.)"
   ]
  },
  {
   "cell_type": "code",
   "execution_count": null,
   "metadata": {},
   "outputs": [],
   "source": [
    "#for a quick visual guide to p-values...\n",
    "#shamelessly copy+pasted from https://stackoverflow.com/questions/25571882/pandas-columns-correlation-with-statistical-significance\n",
    "#woo hoo for open source!\n",
    "from scipy.stats import pearsonr\n",
    "import numpy as np\n",
    "rho = ToCorrelate.corr()\n",
    "pval = ToCorrelate.corr(method=lambda x, y: pearsonr(x, y)[1]) - np.eye(*rho.shape)\n",
    "p = pval.applymap(lambda x: ''.join(['*' for t in [0.01,0.05,0.1] if x<=t]))\n",
    "final  = rho.round(2).astype(str) + p"
   ]
  },
  {
   "cell_type": "code",
   "execution_count": null,
   "metadata": {},
   "outputs": [],
   "source": [
    "pd.DataFrame(np.triu(final),columns = final.columns,index=final.columns) #triu = upper triangle\n",
    "#note that these are rounded to two decimal places:"
   ]
  },
  {
   "cell_type": "code",
   "execution_count": null,
   "metadata": {
    "scrolled": true
   },
   "outputs": [],
   "source": [
    "ToCorrelate"
   ]
  },
  {
   "cell_type": "code",
   "execution_count": null,
   "metadata": {},
   "outputs": [],
   "source": [
    "ssp.pearsonr(ToCorrelate['MeanInferredValenceOverAllPrompts'],ToCorrelate['MeanRatedValence'])\n",
    "#results are (correlation coefficent, p-value)\n",
    "#(0.6462439117729213, 1.6272690534557846e-06), compare to .55 x\n",
    "#(0.640170976825035, 5.554748481181413e-07), compare to .55 x"
   ]
  },
  {
   "cell_type": "code",
   "execution_count": null,
   "metadata": {},
   "outputs": [],
   "source": [
    "ssp.pearsonr(ToCorrelate['MentalHealth'],ToCorrelate['ProportionUniqueNegative'])\n",
    "#\n",
    "#(-0.46806483275014804, 0.00118535312553292),compare to -.36 x"
   ]
  },
  {
   "cell_type": "code",
   "execution_count": null,
   "metadata": {},
   "outputs": [],
   "source": [
    "ssp.pearsonr(ToCorrelate['Openness'],ToCorrelate['MeanWordsPerPrompt'])\n",
    "#\n",
    "#(0.25374068832780905, 0.09258887132127319),compare to .29 ✓"
   ]
  },
  {
   "cell_type": "code",
   "execution_count": null,
   "metadata": {},
   "outputs": [],
   "source": [
    "ssp.pearsonr(ToCorrelate['Neuroticism'],ToCorrelate['ProportionUniquePositive'])\n",
    "#\n",
    "#(0.3963252737816053, 0.007035283015489286),compare to .32 x"
   ]
  },
  {
   "cell_type": "code",
   "execution_count": null,
   "metadata": {},
   "outputs": [],
   "source": [
    "from matplotlib import pyplot as plt"
   ]
  },
  {
   "cell_type": "code",
   "execution_count": null,
   "metadata": {},
   "outputs": [],
   "source": [
    "checkplot = plt.subplot(111)\n",
    "checkplot.scatter(ToCorrelate['MeanInferredValenceOverAllPrompts'],ToCorrelate[\"MeanRatedValence\"])\n",
    "checkplot.set_xlim([0, 1])\n",
    "checkplot.set_ylim([-10, 40])\n",
    "#The data at (.2,-8) is missing...."
   ]
  },
  {
   "cell_type": "code",
   "execution_count": null,
   "metadata": {},
   "outputs": [],
   "source": [
    "checkplot = plt.subplot(111)\n",
    "checkplot.scatter(ToCorrelate[\"MeanWordsPerPrompt\"],ToCorrelate['Openness'])\n",
    "checkplot.set_xlim([1, 4])\n",
    "checkplot.set_ylim([0, 180])"
   ]
  },
  {
   "cell_type": "code",
   "execution_count": null,
   "metadata": {},
   "outputs": [],
   "source": [
    "checkplot = plt.subplot(111)\n",
    "checkplot.scatter(ToCorrelate['ProportionUniquePositive'],ToCorrelate[\"Neuroticism\"],)\n",
    "checkplot.set_xlim([0,1])\n",
    "checkplot.set_ylim([0, 180])"
   ]
  },
  {
   "cell_type": "code",
   "execution_count": null,
   "metadata": {},
   "outputs": [],
   "source": [
    "checkplot = plt.subplot(111)\n",
    "checkplot.scatter(ToCorrelate[\"ProportionUniqueNegative\"],ToCorrelate['MentalHealth'],)\n",
    "checkplot.set_xlim([0,1])\n",
    "checkplot.set_ylim([-2, 4])"
   ]
  },
  {
   "cell_type": "code",
   "execution_count": null,
   "metadata": {},
   "outputs": [],
   "source": []
  },
  {
   "cell_type": "code",
   "execution_count": null,
   "metadata": {},
   "outputs": [],
   "source": []
  }
 ],
 "metadata": {
  "kernelspec": {
   "display_name": "Python 3 (ipykernel)",
   "language": "python",
   "name": "python3"
  },
  "language_info": {
   "codemirror_mode": {
    "name": "ipython",
    "version": 3
   },
   "file_extension": ".py",
   "mimetype": "text/x-python",
   "name": "python",
   "nbconvert_exporter": "python",
   "pygments_lexer": "ipython3",
   "version": "3.10.12"
  },
  "varInspector": {
   "cols": {
    "lenName": 16,
    "lenType": 16,
    "lenVar": 40
   },
   "kernels_config": {
    "python": {
     "delete_cmd_postfix": "",
     "delete_cmd_prefix": "del ",
     "library": "var_list.py",
     "varRefreshCmd": "print(var_dic_list())"
    },
    "r": {
     "delete_cmd_postfix": ") ",
     "delete_cmd_prefix": "rm(",
     "library": "var_list.r",
     "varRefreshCmd": "cat(var_dic_list()) "
    }
   },
   "types_to_exclude": [
    "module",
    "function",
    "builtin_function_or_method",
    "instance",
    "_Feature"
   ],
   "window_display": false
  }
 },
 "nbformat": 4,
 "nbformat_minor": 4
}
